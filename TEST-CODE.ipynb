{
 "cells": [
  {
   "cell_type": "code",
   "execution_count": 14,
   "metadata": {},
   "outputs": [
    {
     "name": "stderr",
     "output_type": "stream",
     "text": [
      "[21:05:30] /github/workspace/src/video/video_reader.cc:312: Failed to seek file to position: 0\n",
      "[21:05:30] /github/workspace/src/video/video_reader.cc:312: Failed to seek file to position: 0\n"
     ]
    },
    {
     "ename": "RuntimeError",
     "evalue": "Failed to seek to frame 0",
     "output_type": "error",
     "traceback": [
      "\u001b[0;31m---------------------------------------------------------------------------\u001b[0m",
      "\u001b[0;31mRuntimeError\u001b[0m                              Traceback (most recent call last)",
      "Cell \u001b[0;32mIn[14], line 9\u001b[0m\n\u001b[1;32m      6\u001b[0m vr \u001b[38;5;241m=\u001b[39m VideoReader(video, num_threads\u001b[38;5;241m=\u001b[39m\u001b[38;5;241m1\u001b[39m, ctx\u001b[38;5;241m=\u001b[39mcpu(\u001b[38;5;241m0\u001b[39m))\n\u001b[1;32m      8\u001b[0m \u001b[38;5;28mlen\u001b[39m(vr)\n\u001b[0;32m----> 9\u001b[0m a \u001b[38;5;241m=\u001b[39m \u001b[43mvr\u001b[49m\u001b[38;5;241;43m.\u001b[39;49m\u001b[43mseek\u001b[49m\u001b[43m(\u001b[49m\u001b[38;5;241;43m0\u001b[39;49m\u001b[43m)\u001b[49m\n",
      "File \u001b[0;32m~/miniconda3/envs/env/lib/python3.10/site-packages/decord/video_reader.py:218\u001b[0m, in \u001b[0;36mVideoReader.seek\u001b[0;34m(self, pos)\u001b[0m\n\u001b[1;32m    216\u001b[0m success \u001b[38;5;241m=\u001b[39m _CAPI_VideoReaderSeek(\u001b[38;5;28mself\u001b[39m\u001b[38;5;241m.\u001b[39m_handle, pos)\n\u001b[1;32m    217\u001b[0m \u001b[38;5;28;01mif\u001b[39;00m \u001b[38;5;129;01mnot\u001b[39;00m success:\n\u001b[0;32m--> 218\u001b[0m     \u001b[38;5;28;01mraise\u001b[39;00m \u001b[38;5;167;01mRuntimeError\u001b[39;00m(\u001b[38;5;124m\"\u001b[39m\u001b[38;5;124mFailed to seek to frame \u001b[39m\u001b[38;5;132;01m{}\u001b[39;00m\u001b[38;5;124m\"\u001b[39m\u001b[38;5;241m.\u001b[39mformat(pos))\n",
      "\u001b[0;31mRuntimeError\u001b[0m: Failed to seek to frame 0"
     ]
    }
   ],
   "source": [
    "import json\n",
    "from pprint import pprint\n",
    "\n",
    "from decord import VideoReader, cpu\n",
    "video = \"/root/autodl-tmp/data/SumMe/videos/Cooking.mp4\"\n",
    "vr = VideoReader(video, num_threads=1, ctx=cpu(0))\n",
    "\n",
    "len(vr)\n",
    "a = vr.seek(0)\n"
   ]
  }
 ],
 "metadata": {
  "kernelspec": {
   "display_name": "env",
   "language": "python",
   "name": "python3"
  },
  "language_info": {
   "codemirror_mode": {
    "name": "ipython",
    "version": 3
   },
   "file_extension": ".py",
   "mimetype": "text/x-python",
   "name": "python",
   "nbconvert_exporter": "python",
   "pygments_lexer": "ipython3",
   "version": "3.10.16"
  }
 },
 "nbformat": 4,
 "nbformat_minor": 2
}
