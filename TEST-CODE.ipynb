{
 "cells": [
  {
   "cell_type": "code",
   "execution_count": 11,
   "metadata": {},
   "outputs": [
    {
     "name": "stdout",
     "output_type": "stream",
     "text": [
      "{'duration': 30.96,\n",
      " 'response': [{'query_json': [{'descriptions': ['A person turns a light on.',\n",
      "                                                'Someone is switching a light '\n",
      "                                                'on.',\n",
      "                                                'An individual activates a '\n",
      "                                                'light.'],\n",
      "                               'sub_query_id': 0}],\n",
      "               'reasoning': 'The user described a single action where a person '\n",
      "                            'turns a light on. Given that only one specific '\n",
      "                            'action is described, there is no need to split '\n",
      "                            'this into multiple sub-queries.',\n",
      "               'relationship': 'single-query',\n",
      "               'sub-queries': 'A person turns a light on.'},\n",
      "              {'query_json': [{'descriptions': ['A person flipped the light '\n",
      "                                                'switch near the door.',\n",
      "                                                'Someone toggled a light '\n",
      "                                                'switch located by the door.',\n",
      "                                                'An individual engaged a '\n",
      "                                                'lighting switch next to the '\n",
      "                                                'door.'],\n",
      "                               'sub_query_id': 0}],\n",
      "               'reasoning': 'The user described a person flipping a light '\n",
      "                            'switch near the door. This is essentially a '\n",
      "                            'single action involving a specific location (near '\n",
      "                            'the door). Therefore, there is no need to split '\n",
      "                            'this into multiple sub-queries since it pertains '\n",
      "                            'to a singular, cohesive activity.',\n",
      "               'relationship': 'single-query',\n",
      "               'sub-queries': '1. A person flipped the light switch near the '\n",
      "                              'door.'},\n",
      "              {'query_json': [{'descriptions': ['A person turns on the light '\n",
      "                                                'switch.',\n",
      "                                                'Someone is switching on the '\n",
      "                                                'light.',\n",
      "                                                'An individual activates the '\n",
      "                                                'light by turning the switch.'],\n",
      "                               'sub_query_id': 0}],\n",
      "               'reasoning': \"The user's query involves a single action of \"\n",
      "                            'turning on a light switch. Since this is a single '\n",
      "                            'action, there is no need to split the query into '\n",
      "                            'multiple sub-queries.',\n",
      "               'relationship': 'single-query',\n",
      "               'sub-queries': '1. A person turns on the light switch.'},\n",
      "              {'query_json': [{'descriptions': ['A person is playing with the '\n",
      "                                                'switch for the light.',\n",
      "                                                'Someone toggles the light '\n",
      "                                                'switch back and forth.',\n",
      "                                                'An individual interacts with '\n",
      "                                                'a light switch, turning it on '\n",
      "                                                'and off.'],\n",
      "                               'sub_query_id': 0}],\n",
      "               'reasoning': 'The user described a single continuous action of '\n",
      "                            'a person playing with a light switch. This '\n",
      "                            'activity involves interacting with the switch in '\n",
      "                            'various possible manners but is described as one '\n",
      "                            'continuous scene.',\n",
      "               'relationship': 'single-query',\n",
      "               'sub-queries': '1. A person is playing with the switch for the '\n",
      "                              'light.'}],\n",
      " 'sentences': ['person turn a light on.',\n",
      "               'person flipped the light switch near the door.',\n",
      "               'person turn the light switch on.',\n",
      "               'person is playing with the switch for the light.'],\n",
      " 'timestamps': [[24.3, 30.4], [24.3, 30.4], [24.3, 30.4], [24.3, 30.4]]}\n"
     ]
    }
   ],
   "source": [
    "import json\n",
    "from pprint import pprint\n",
    "\n",
    "# 打开并读取 JSON 文件\n",
    "with open('/root/TFVTG-FORK/dataset/charades-sta/llm_outputs.json', 'r') as file:\n",
    "    data = json.load(file)\n",
    "\n",
    "# 显示第一个数据\n",
    "pprint(data['3MSZA'])"
   ]
  }
 ],
 "metadata": {
  "kernelspec": {
   "display_name": "env",
   "language": "python",
   "name": "python3"
  },
  "language_info": {
   "codemirror_mode": {
    "name": "ipython",
    "version": 3
   },
   "file_extension": ".py",
   "mimetype": "text/x-python",
   "name": "python",
   "nbconvert_exporter": "python",
   "pygments_lexer": "ipython3",
   "version": "3.10.16"
  }
 },
 "nbformat": 4,
 "nbformat_minor": 2
}
